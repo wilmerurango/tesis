{
 "cells": [
  {
   "cell_type": "code",
   "execution_count": 2,
   "metadata": {},
   "outputs": [],
   "source": [
    "import numpy as np\n",
    "import pandas as pd\n",
    "import random"
   ]
  },
  {
   "cell_type": "code",
   "execution_count": 8,
   "metadata": {},
   "outputs": [],
   "source": [
    "n = 7 #numero de estaciones\n",
    "kk = 150 #numero de classes\n",
    "tt = 60 #numero de períodos"
   ]
  },
  {
   "cell_type": "code",
   "execution_count": 84,
   "metadata": {},
   "outputs": [],
   "source": [
    "# VARIACION DEL PARAMETRO N\n",
    "\n",
    "# v_max = 2*n\n",
    "# anex = list(range(n+1,v_max+1))\n",
    "\n",
    "# dem_anex = {(i,j,k,t): np.random.randint(1,100) for j in anex for i in range(1,j)  for k in range(1, kk+1) for t in range(1, tt+1)}\n",
    "\n",
    "# preco_anex = {}\n",
    "# for j in anex:\n",
    "#     for i in range(1,j):\n",
    "#         aleat = np.sort(random.sample(range(50, 2000 + 1), kk))\n",
    "\n",
    "#         for k,valor in enumerate(aleat):\n",
    "#             preco_anex[(i,j,k+1)] = valor\n",
    "\n",
    "# dem_cor_1 = []\n",
    "# for i in dem_anex:\n",
    "#     dem_cor_1.append([i[0],i[1],i[2],i[3],dem_anex[i]])\n",
    "\n",
    "# preco_cor_1 = []\n",
    "# for i in preco_anex:\n",
    "#     preco_cor_1.append([i[0],i[1],i[2],preco_anex[i]])\n",
    "\n",
    "# est_dem = pd.DataFrame(dem_cor_1, columns=['origem','destino','classe','periodo','demanda'])\n",
    "# est_preco = pd.DataFrame(preco_cor_1, columns=['origem','destino','classe','preco'])\n",
    "\n",
    "# est_dem.to_csv('demanda_anex_n2.txt', index=False)\n",
    "# est_preco.to_csv('preco_anex_n2.txt', index=False)"
   ]
  },
  {
   "cell_type": "code",
   "execution_count": 10,
   "metadata": {},
   "outputs": [],
   "source": [
    "# VARIACION DE KK\n",
    "\n",
    "# b = pd.read_excel('C:/tesis_wilmer/tesis/instancias/preco_n7_k150_t60.xlsx')\n",
    "\n",
    "# k_max = 300\n",
    "\n",
    "# dem_anex_k = {(i,j,k,t): np.random.randint(1,100) for i in range(1, n+1) for j in range(1, n+1) for k in range(kk+1, 3*kk+1) for t in range(1, tt+1) if i<j}\n",
    "\n",
    "# preco_anex_k = {}\n",
    "# for i in range(1, n+1):\n",
    "#     for j in range(1, n+1):\n",
    "#         if i < j :\n",
    "#             aleat1 = b[(b['origem']==i) & (b['destino']==j)]['preco'].to_list()\n",
    "#             ultim = aleat1[-1]\n",
    "#             aleat2 = list(np.sort(random.sample(range(ultim, 2*k_max + 1 + ultim), k_max)))\n",
    "#             aleat = aleat1 + aleat2\n",
    "#             for k,valor in enumerate(aleat):\n",
    "#                 preco_anex_k[(i,j,k+1)] = valor\n",
    "\n",
    "# dem_cor_1 = []\n",
    "# for i in dem_anex_k:\n",
    "#     dem_cor_1.append([i[0],i[1],i[2],i[3],dem_anex_k[i]])\n",
    "\n",
    "# preco_cor_1 = []\n",
    "# for i in preco_anex_k:\n",
    "#     preco_cor_1.append([i[0],i[1],i[2],preco_anex_k[i]])\n",
    "\n",
    "# est_dem = pd.DataFrame(dem_cor_1, columns=['origem','destino','classe','periodo','demanda'])\n",
    "# est_preco = pd.DataFrame(preco_cor_1, columns=['origem','destino','classe','preco'])\n",
    "\n",
    "# est_dem.to_csv('demanda_anex_k.txt', index=False)\n",
    "# est_preco.to_csv('preco_complet_k.txt', index=False)"
   ]
  },
  {
   "cell_type": "code",
   "execution_count": 6,
   "metadata": {},
   "outputs": [],
   "source": [
    "# VARIACION DE TT\n",
    "\n",
    "t_max = 3*tt\n",
    "\n",
    "dem_anex_t = {(i,j,k,t): np.random.randint(1,100) for i in range(1, n+1) for j in range(1, n+1) for k in range(1, kk+1) for t in range(tt+1, t_max+1) if i<j}\n",
    "\n",
    "dem_cor_1 = []\n",
    "for i in dem_anex_t:\n",
    "    dem_cor_1.append([i[0],i[1],i[2],i[3],dem_anex_t[i]])\n",
    "\n",
    "est_dem = pd.DataFrame(dem_cor_1, columns=['origem','destino','classe','periodo','demanda'])\n",
    "\n",
    "est_dem.to_csv('demanda_anex_t.txt', index=False)"
   ]
  },
  {
   "cell_type": "code",
   "execution_count": 31,
   "metadata": {},
   "outputs": [],
   "source": [
    "# CREAR UNA INSTANCIA NUEVA\n",
    "\n",
    "dem_pro = {(i,j,k,t): np.random.randint(1,100) for i in range(1, n+1) for j in range(1, n+1) for k in range(1, kk+1) for t in range(1, tt+1) if i<j}\n",
    "\n",
    "preco_pro = {}\n",
    "for i in range(1, n+1):\n",
    "    for j in range(1, n+1):\n",
    "                  \n",
    "        if i < j :\n",
    "            aleat = np.sort(random.sample(range(50, 2000 + 1), kk))\n",
    "\n",
    "            for k,valor in enumerate(aleat):\n",
    "                preco_pro[(i,j,k+1)] = valor\n",
    "\n",
    "dem_cor_1 = []\n",
    "for i in dem_pro:\n",
    "    dem_cor_1.append([i[0],i[1],i[2],i[3],dem_pro[i]])\n",
    "\n",
    "preco_cor_1 = []\n",
    "for i in preco_pro:\n",
    "    preco_cor_1.append([i[0],i[1],i[2],preco_pro[i]])\n",
    "\n",
    "est_dem = pd.DataFrame(dem_cor_1, columns=['origem','destino','classe','periodo','demanda'])\n",
    "est_preco = pd.DataFrame(preco_cor_1, columns=['origem','destino','classe','preco'])\n",
    "\n",
    "est_dem.to_csv('demanda_n15_k200_t60.txt', index=False)\n",
    "est_preco.to_csv('preco_n15_k200_t60.txt', index=False)"
   ]
  }
 ],
 "metadata": {
  "kernelspec": {
   "display_name": "Python 3",
   "language": "python",
   "name": "python3"
  },
  "language_info": {
   "codemirror_mode": {
    "name": "ipython",
    "version": 3
   },
   "file_extension": ".py",
   "mimetype": "text/x-python",
   "name": "python",
   "nbconvert_exporter": "python",
   "pygments_lexer": "ipython3",
   "version": "3.10.13"
  }
 },
 "nbformat": 4,
 "nbformat_minor": 2
}
