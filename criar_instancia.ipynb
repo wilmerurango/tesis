{
 "cells": [
  {
   "cell_type": "code",
   "execution_count": 1,
   "metadata": {},
   "outputs": [],
   "source": [
    "import numpy as np\n",
    "import pandas as pd\n",
    "import random"
   ]
  },
  {
   "cell_type": "code",
   "execution_count": 2,
   "metadata": {},
   "outputs": [],
   "source": [
    "n = 15 #numero de estaciones\n",
    "kk = 200 #numero de classes\n",
    "tt = 60 #numero de períodos"
   ]
  },
  {
   "cell_type": "code",
   "execution_count": 4,
   "metadata": {},
   "outputs": [],
   "source": [
    "# crear una instancia nueva\n",
    "dem_pro = {(i,j,k,t): np.random.randint(1,100) for i in range(1, n+1) for j in range(1, n+1) for k in range(1, kk+1) for t in range(1, tt+1) if i<j}\n",
    "\n",
    "preco_pro = {}\n",
    "for i in range(1, n+1):\n",
    "    for j in range(1, n+1):\n",
    "                    \n",
    "        if i < j :\n",
    "            aleat = np.sort(random.sample(range(50, 2000 + 1), kk))\n",
    "\n",
    "            for k,valor in enumerate(aleat):\n",
    "                preco_pro[(i,j,k+1)] = valor\n",
    "\n",
    "dem_cor_1 = []\n",
    "for i in dem_pro:\n",
    "    dem_cor_1.append([i[0],i[1],i[2],i[3],dem_pro[i]])\n",
    "\n",
    "preco_cor_1 = []\n",
    "for i in preco_pro:\n",
    "    preco_cor_1.append([i[0],i[1],i[2],preco_pro[i]])\n",
    "\n",
    "est_dem = pd.DataFrame(dem_cor_1, columns=['origem','destino','classe','periodo','demanda'])\n",
    "est_preco = pd.DataFrame(preco_cor_1, columns=['origem','destino','classe','preco'])\n",
    "\n",
    "est_dem.to_csv('demanda_n15_k200_t60.txt', index=False)\n",
    "est_preco.to_csv('preco_n15_k200_t60.txt', index=False)"
   ]
  }
 ],
 "metadata": {
  "kernelspec": {
   "display_name": "Python 3",
   "language": "python",
   "name": "python3"
  },
  "language_info": {
   "codemirror_mode": {
    "name": "ipython",
    "version": 3
   },
   "file_extension": ".py",
   "mimetype": "text/x-python",
   "name": "python",
   "nbconvert_exporter": "python",
   "pygments_lexer": "ipython3",
   "version": "3.9.12"
  }
 },
 "nbformat": 4,
 "nbformat_minor": 2
}
