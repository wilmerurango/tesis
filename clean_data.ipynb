{
 "cells": [
  {
   "cell_type": "code",
   "execution_count": 91,
   "metadata": {},
   "outputs": [],
   "source": [
    "import pandas as pd\n",
    "import numpy as np\n",
    "\n",
    "# pd.set_option('display.max_rows', None)\n",
    "# pd.set_option('display.max_columns', None)"
   ]
  },
  {
   "cell_type": "code",
   "execution_count": 306,
   "metadata": {},
   "outputs": [],
   "source": [
    "data = pd.read_csv('C:/Jupyter/TESIS/instancias/real/testInstance_Amtrak.csv', delimiter=';')\n",
    "data.drop(columns=['Unnamed: 0'], inplace=True)"
   ]
  },
  {
   "cell_type": "code",
   "execution_count": 307,
   "metadata": {},
   "outputs": [],
   "source": [
    "start_estation = 'NYP'\n",
    "\n",
    "origin = data['Origin'].unique().tolist()\n",
    "destin = data['Destination'].unique().tolist()\n",
    "periodo = sorted(data['DBD'].unique().tolist(), reverse=True)\n",
    "\n",
    "stations = destin + [i for i in origin if i not in destin]\n",
    "\n",
    "anonymo_stat = {i: data[data['Market'] == start_estation + '-' + i]['NbLegs'].unique()[0] + 1 if i != start_estation else 1 for i in stations }\n",
    "data.replace(anonymo_stat, inplace=True)\n",
    "origin_cor = sorted(data['Origin'].unique().tolist())\n",
    "destin_cor = sorted(data['Destination'].unique().tolist())"
   ]
  },
  {
   "cell_type": "code",
   "execution_count": 297,
   "metadata": {},
   "outputs": [],
   "source": [
    "data['Market'] = data['Origin'].astype('str') +'-'+ data['Destination'].astype('str')\n",
    "oridest = data['Market'].unique().tolist()\n",
    "oridest = sorted([(int(i.split('-')[0]), int(i.split('-')[1])) for i in oridest])\n",
    "\n",
    "jerar_comer_class = {'Y': '1-1','YA': '1-2','YB': '1-3','YC': '1-4','YD': '1-5','YE': '1-6','YF': '1-7','YG': '1-8','JY': '2-1','JA': '2-2','JB': '2-3','JC': '2-4','JD': '2-5','JE': '2-6','JF': '2-7','JG': '2-8'}\n",
    "data['CommercialClass'].replace(jerar_comer_class, inplace=True)\n",
    "\n",
    "data[['vagon','clase']] = data['CommercialClass'].str.split('-', expand=True).astype('int')\n",
    "vagones = data['vagon'].unique().tolist()\n",
    "clases = {v: sorted(data[data['vagon']==v]['clase'].unique().tolist()) for v in vagones}"
   ]
  },
  {
   "cell_type": "code",
   "execution_count": 298,
   "metadata": {},
   "outputs": [],
   "source": [
    "demanda = pd.pivot_table(data, values=['Bookings'], index=['Origin','Destination','vagon','clase', 'DBD'], aggfunc={'Bookings':'sum'})\n",
    "demanda.reset_index(inplace=True)\n",
    "\n",
    "preco = pd.pivot_table(data, values=['Revenue'], index=['Origin','Destination','vagon','clase'], aggfunc={'Revenue':'max'})\n",
    "preco.reset_index(inplace=True)"
   ]
  },
  {
   "cell_type": "code",
   "execution_count": 299,
   "metadata": {},
   "outputs": [],
   "source": [
    "for i,j in oridest:\n",
    "    for v in vagones:\n",
    "        for k in clases[v]:\n",
    "                if preco.loc[(preco.Origin == i) & (preco.Destination == j) & (preco.vagon == v) & (preco.clase == k)]['Revenue'].count() == 0:\n",
    "                    a = {'Origin':i,'Destination':j,'vagon':v,'clase':k,'Revenue':0}\n",
    "                    preco.loc[len(preco)] = a\n",
    "\n",
    "for i,j in oridest:\n",
    "    for v in vagones:\n",
    "        for k in clases[v]:\n",
    "                for t in periodo:\n",
    "                    if demanda.loc[(demanda.Origin == i) & (demanda.Destination == j) & (demanda.vagon == v) & (demanda.clase == k) & (demanda.DBD == t)]['Bookings'].count() == 0:\n",
    "                        a = {'Origin':i,'Destination':j,'vagon':v,'clase':k, 'DBD':t,'Bookings':0}\n",
    "                        demanda.loc[len(demanda)] = a"
   ]
  },
  {
   "cell_type": "code",
   "execution_count": 300,
   "metadata": {},
   "outputs": [],
   "source": [
    "preco = preco.sort_values(by=['Origin', 'Destination', 'vagon', 'Revenue'], ascending=[True, True, True, False])\n",
    "\n",
    "dem_cor = demanda.set_index(['Origin', 'Destination', 'vagon', 'clase', 'DBD'])['Bookings'].to_dict()\n",
    "preco_cor = preco.set_index(['Origin', 'Destination', 'vagon', 'clase'])['Revenue'].to_dict()"
   ]
  },
  {
   "cell_type": "code",
   "execution_count": 301,
   "metadata": {},
   "outputs": [],
   "source": [
    "# def mode_clase(x):\n",
    "#     b = x[0]\n",
    "#     return b\n",
    "\n",
    "# def sub_clase(x):\n",
    "#     if len(x)>=2:\n",
    "#         c = x[1]\n",
    "#     else:\n",
    "#         c = ''\n",
    "#     return c\n",
    "\n",
    "# data['vagon'] = data['CommercialClass'].apply(mode_clase)\n",
    "# vagones = data['vagon'].unique().tolist()\n",
    "# data['vagon'].replace({j:i+1 for i,j in enumerate(vagones)}, inplace= True)\n",
    "\n",
    "# data['sub_clas'] = data['CommercialClass'].apply(sub_clase)\n",
    "# sub_clase = sorted(data['sub_clas'].unique().tolist())\n",
    "# data['sub_clas'].replace({j:i+1 for i,j in enumerate(sub_clase)}, inplace= True)\n",
    "\n",
    "# vagones_1 = data['vagon'].unique().tolist()\n",
    "# clases = data['sub_clas'].unique().tolist()"
   ]
  }
 ],
 "metadata": {
  "kernelspec": {
   "display_name": "Python 3",
   "language": "python",
   "name": "python3"
  },
  "language_info": {
   "codemirror_mode": {
    "name": "ipython",
    "version": 3
   },
   "file_extension": ".py",
   "mimetype": "text/x-python",
   "name": "python",
   "nbconvert_exporter": "python",
   "pygments_lexer": "ipython3",
   "version": "3.9.12"
  }
 },
 "nbformat": 4,
 "nbformat_minor": 2
}
