{
 "cells": [
  {
   "cell_type": "code",
   "execution_count": 1,
   "id": "e0ebb260",
   "metadata": {},
   "outputs": [],
   "source": [
    "import pandas as pd\n",
    "import glob\n",
    "import os"
   ]
  },
  {
   "cell_type": "code",
   "execution_count": 2,
   "id": "75e2d1e2",
   "metadata": {},
   "outputs": [],
   "source": [
    "instances = [\n",
    "             'instancia1',\n",
    "             'instancia2',\n",
    "             'instancia3',\n",
    "             'instancia4',\n",
    "             'instancia5',\n",
    "             'instancia6',\n",
    "             'instancia7',\n",
    "             'instancia8',\n",
    "             'instancia9',\n",
    "             'instancia10'\n",
    "            ]\n",
    "\n",
    "path = '/home/wilmer/Documentos/Codes/tesis/Resultados/Instancias/'\n",
    "instance = 'instancia1'\n",
    "\n",
    "resumo = pd.read_excel('/home/wilmer/Documentos/Codes/tesis/Resultados/Instancias/resumo.xlsx')\n",
    "resumo['Z_real'] = 0\n",
    "resumo['clave'] = resumo['Abordagem'] + '_' + resumo['Modelo'] + '_' + resumo['Instância'] "
   ]
  },
  {
   "cell_type": "code",
   "execution_count": 3,
   "id": "adce237b",
   "metadata": {},
   "outputs": [
    {
     "name": "stderr",
     "output_type": "stream",
     "text": [
      "/tmp/ipykernel_45686/3947756742.py:18: FutureWarning: Setting an item of incompatible dtype is deprecated and will raise an error in a future version of pandas. Value '170484.85' has dtype incompatible with int64, please explicitly cast to a compatible dtype first.\n",
      "  resumo.loc[indexx, 'Z_real'] = fo\n"
     ]
    }
   ],
   "source": [
    "for instance in instances:\n",
    "\n",
    "    # 2) Consigue todos los archivos con extensión .xls o .xlsx\n",
    "    excel_patterns = [os.path.join(path + instance, \"*.xlsx\"), os.path.join(path + instance, \"*.xls\")]\n",
    "\n",
    "    excel_files = []\n",
    "    for pattern in excel_patterns:\n",
    "        excel_files.extend(glob.glob(pattern))\n",
    "\n",
    "    for ruta in excel_files:\n",
    "\n",
    "        data = pd.read_excel(ruta)\n",
    "        data['Z_real'] = data['Assignments[X]']*data['Preco']\n",
    "        fo = data['Z_real'].sum()\n",
    "\n",
    "        nome_model = os.path.splitext(os.path.basename(ruta))[0]\n",
    "        indexx = resumo[resumo['clave']==nome_model].index[0]\n",
    "        resumo.loc[indexx, 'Z_real'] = fo\n",
    "\n",
    "resumo.to_excel('/home/wilmer/Documentos/Codes/tesis/Resultados/Instancias/resumoCor.xlsx', index=False)"
   ]
  },
  {
   "cell_type": "code",
   "execution_count": 4,
   "id": "bc50b443",
   "metadata": {},
   "outputs": [
    {
     "data": {
      "text/plain": [
       "''"
      ]
     },
     "execution_count": 4,
     "metadata": {},
     "output_type": "execute_result"
    }
   ],
   "source": [
    "''"
   ]
  }
 ],
 "metadata": {
  "kernelspec": {
   "display_name": "env",
   "language": "python",
   "name": "python3"
  },
  "language_info": {
   "codemirror_mode": {
    "name": "ipython",
    "version": 3
   },
   "file_extension": ".py",
   "mimetype": "text/x-python",
   "name": "python",
   "nbconvert_exporter": "python",
   "pygments_lexer": "ipython3",
   "version": "3.10.14"
  }
 },
 "nbformat": 4,
 "nbformat_minor": 5
}
