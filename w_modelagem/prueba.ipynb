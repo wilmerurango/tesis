{
 "cells": [
  {
   "cell_type": "code",
   "execution_count": null,
   "metadata": {},
   "outputs": [],
   "source": [
    "import re\n",
    "import pandas as pd\n",
    "import numpy as np\n",
    "\n",
    "from GeralModelY_ import *\n",
    "from pathlib import Path\n",
    "from gurobipy import read\n",
    "\n",
    "pd.set_option('display.max_rows', None)"
   ]
  },
  {
   "cell_type": "code",
   "execution_count": null,
   "metadata": {},
   "outputs": [],
   "source": [
    "wilmer = GeralModelY(\n",
    "    path_dem='/home/wilmer/Documentos/Codes/tesis/Instancias/test/sinteticos/sinte1/demanda.csv',\n",
    "    path_preco='/home/wilmer/Documentos/Codes/tesis/Instancias/test/sinteticos/sinte1/preco.csv',\n",
    "    path_rota1='/home/wilmer/Documentos/Codes/tesis/Instancias/test/sinteticos/sinte1/rota.csv',\n",
    "    Q={'P':561, 'Z':561},\n",
    "    perio=0,\n",
    "    nome='instancia1',\n",
    "    abordagem='T1',\n",
    "    g_param={\n",
    "        't': 0, \n",
    "        'y': 5,\n",
    "        'x': 11,\n",
    "        'ng': 4,\n",
    "        'attrs': ['Authorizations[Y]','Assignments[X]','Demanda','Preco'],\n",
    "        }\n",
    ")\n",
    "\n",
    "model, create_time, run_time, listNoUnimod = wilmer.behavioral_complete_model()"
   ]
  },
  {
   "cell_type": "code",
   "execution_count": null,
   "metadata": {},
   "outputs": [],
   "source": [
    "len(listNoUnimod)"
   ]
  },
  {
   "cell_type": "markdown",
   "metadata": {},
   "source": [
    "# pruebas manuales"
   ]
  },
  {
   "cell_type": "code",
   "execution_count": null,
   "metadata": {},
   "outputs": [],
   "source": [
    "# Leer el modelo LP\n",
    "modelop = read(\"/home/wilmer/Documentos/Codes/tesis/Instancias/test/test1/test1.lp\")  # Asegúrate de que esté en el mismo directorio\n",
    "\n",
    "# Asegurar que el modelop está actualizado\n",
    "modelop.update()\n",
    "\n",
    "# Extraer matriz de restricciones\n",
    "A = modelop.getA()\n",
    "\n",
    "# Extraer nombres de variables (columnas de A)\n",
    "variables = [v.VarName for v in modelop.getVars()]\n",
    "\n",
    "# Extraer nombres de restricciones (filas de A)\n",
    "restricciones = [c.ConstrName for c in modelop.getConstrs()]\n",
    "\n",
    "# Extraer lado derecho (b)\n",
    "b = [c.RHS for c in modelop.getConstrs()]\n",
    "\n",
    "# Convertir la matriz dispersa a DataFrame\n",
    "A_df = pd.DataFrame.sparse.from_spmatrix(A, index=restricciones, columns=variables)\n",
    "\n",
    "# Convertir b a Series\n",
    "b_series = pd.Series(b, index=restricciones, name='b')\n",
    "\n",
    "# Mostrar resultado\n",
    "A_df\n",
    "\n",
    "# print(\"\\nVector b (lado derecho):\")\n",
    "# print(b_series)\n",
    "\n",
    "# print(\"\\nVector x (variables):\")\n",
    "# print(pd.Series(variables, name='x'))\n"
   ]
  },
  {
   "cell_type": "code",
   "execution_count": null,
   "metadata": {},
   "outputs": [],
   "source": [
    "# True si el valor ∈ {0, -1, 1}\n",
    "en_conjunto = A_df.isin([0, -1, 1])\n",
    "\n",
    "# True si TODA la fila está en {0,-1, 1}\n",
    "fila_toda_en_conjunto = en_conjunto.all(axis=1)\n",
    "\n",
    "# Filas que tienen al menos un valor FUERA del conjunto\n",
    "filas_con_valor_distinto = ~fila_toda_en_conjunto\n",
    "\n",
    "# Índices que cumplen la condición\n",
    "indicesw = A_df.index[filas_con_valor_distinto]\n",
    "\n",
    "indicesw, len(indicesw)"
   ]
  },
  {
   "cell_type": "code",
   "execution_count": null,
   "metadata": {},
   "outputs": [],
   "source": [
    "def parse_constraints(lp_path):\n",
    "    \"\"\"\n",
    "    Lee un archivo .lp y devuelve un conjunto con los nombres de las restricciones\n",
    "    que aparecen en la sección Subject To (o s.t.).\n",
    "    \"\"\"\n",
    "    constraints = set()\n",
    "    in_subject_to = False\n",
    "\n",
    "    # Expresiones regulares para detectar el inicio y final de la sección\n",
    "    start_pattern = re.compile(r'^(Subject To|s\\.t\\.|st)\\b', re.IGNORECASE)\n",
    "    end_pattern   = re.compile(r'^(Bounds|Binaries|Generals|End)\\b', re.IGNORECASE)\n",
    "\n",
    "    # Patrón para capturar el nombre de la restricción: texto antes de los dos puntos\n",
    "    constr_pattern = re.compile(r'^(\\S+)\\s*:\\s*.+')\n",
    "\n",
    "    with open(lp_path, 'r') as f:\n",
    "        for raw_line in f:\n",
    "            line = raw_line.strip()\n",
    "            if not line:\n",
    "                continue\n",
    "\n",
    "            # ¿Empezamos la sección de restricciones?\n",
    "            if start_pattern.match(line):\n",
    "                in_subject_to = True\n",
    "                continue\n",
    "\n",
    "            # ¿Terminamos la sección?\n",
    "            if in_subject_to and end_pattern.match(line):\n",
    "                break\n",
    "\n",
    "            # Si estamos dentro de Subject To, intentamos extraer nombre\n",
    "            if in_subject_to:\n",
    "                m = constr_pattern.match(line)\n",
    "                if m:\n",
    "                    name = m.group(1)\n",
    "                    constraints.add(name)\n",
    "                # Si la línea no tiene \"nombre:\", será continuación de la anterior → la ignoramos\n",
    "\n",
    "    return constraints\n",
    "\n",
    "def find_removed_constraints(original_lp, preprocessed_lp):\n",
    "    \"\"\"\n",
    "    Compara los sets de nombres de restricciones y devuelve la lista\n",
    "    de las que fueron eliminadas tras el preprocesamiento.\n",
    "    \"\"\"\n",
    "    orig_set = parse_constraints(original_lp)\n",
    "    pre_set  = parse_constraints(preprocessed_lp)\n",
    "\n",
    "    removed = sorted(orig_set - pre_set)\n",
    "    return removed\n",
    "\n",
    "if __name__ == '__main__':\n",
    "    archivo_original = '/home/wilmer/Documentos/Codes/tesis/Instancias/test/test1/test1.lp'\n",
    "    archivo_pre      = '/home/wilmer/Documentos/Codes/tesis/Instancias/test/test1/test1_pre.lp'\n",
    "\n",
    "    eliminadas = find_removed_constraints(archivo_original, archivo_pre)\n",
    "    if eliminadas:\n",
    "        print(\"Restricciones eliminadas tras el preprocesamiento: \", len(eliminadas))\n",
    "        for name in eliminadas:\n",
    "            print(\" -\", name)\n",
    "        \n",
    "    else:\n",
    "        print(\"No se detectaron restricciones eliminadas.\")"
   ]
  },
  {
   "cell_type": "code",
   "execution_count": null,
   "metadata": {},
   "outputs": [],
   "source": [
    "a = [i for i in indicesw if i not in eliminadas]\n",
    "len(a)/580"
   ]
  }
 ],
 "metadata": {
  "kernelspec": {
   "display_name": "env",
   "language": "python",
   "name": "python3"
  },
  "language_info": {
   "codemirror_mode": {
    "name": "ipython",
    "version": 3
   },
   "file_extension": ".py",
   "mimetype": "text/x-python",
   "name": "python",
   "nbconvert_exporter": "python",
   "pygments_lexer": "ipython3",
   "version": "3.10.14"
  }
 },
 "nbformat": 4,
 "nbformat_minor": 2
}
