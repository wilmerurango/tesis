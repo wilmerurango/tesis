{
 "cells": [
  {
   "cell_type": "code",
   "execution_count": 5,
   "metadata": {},
   "outputs": [],
   "source": [
    "from pyomo.environ import *\n",
    "from itertools import combinations\n",
    "import pandas as pd\n",
    "\n",
    "# pd.set_option('display.max_rows', None)\n",
    "# pd.set_option('display.max_columns', None)"
   ]
  },
  {
   "cell_type": "code",
   "execution_count": 6,
   "metadata": {},
   "outputs": [],
   "source": [
    "dem = pd.read_excel('C:/Jupyter/TESIS/instancias/demanda_n7_k150_t60.xlsx')\n",
    "preco = pd.read_excel('C:/Jupyter/TESIS/instancias/preco_n7_k150_t60.xlsx')\n",
    "cap = 700 #capacidade do trem\n",
    "n = 7 #numero de estaciones\n",
    "kk = 150 #numero de classes\n",
    "tt = 60 #numero de períodos\n",
    "# estacoes = ['E1','E2', 'E3','E4']\n",
    "estacoes = [1,2,3,4,5,6,7]\n",
    "combinaciones = list(combinations(estacoes, 2))\n",
    "oridest = [(inicio, fin) for inicio, fin in combinaciones if estacoes.index(inicio) < estacoes.index(fin)]\n",
    "legs = [(inicio, fin) for inicio, fin in combinaciones if estacoes.index(fin) == estacoes.index(inicio)+1]"
   ]
  },
  {
   "cell_type": "code",
   "execution_count": 7,
   "metadata": {},
   "outputs": [],
   "source": [
    "dem_cor = {}\n",
    "for i in range(dem.shape[0]): #dem.iloc[0:12,:]\n",
    "    dem_cor[(dem.iloc[i,0], dem.iloc[i,1], dem.iloc[i,2], dem.iloc[i,3])] = dem.iloc[i,4]\n",
    "\n",
    "preco_cor = {}\n",
    "for i in range(preco.shape[0]):\n",
    "    preco_cor[(preco.iloc[i,0], preco.iloc[i,1], preco.iloc[i,2])] = preco.iloc[i,3]"
   ]
  },
  {
   "cell_type": "code",
   "execution_count": null,
   "metadata": {},
   "outputs": [],
   "source": [
    "# instanciar o modelo\n",
    "model = AbstractModel()\n",
    "\n",
    "# Escalares\n",
    "model.n = Param(initialize = n)\n",
    "model.k = Param(initialize = kk)\n",
    "model.t = Param(initialize = tt)\n",
    "model.Q = Param(initialize = cap)\n",
    "\n",
    "# conjuntos\n",
    "model.ES = Set(initialize = estacoes)\n",
    "model.OD = Set(dimen = 2, initialize = oridest)\n",
    "model.L = Set(dimen = 2, initialize = legs)\n",
    "model.K = RangeSet(1, model.k)\n",
    "model.T = RangeSet(1, model.t)\n",
    "\n",
    "#parâmetros indexados\n",
    "model.P = Param(model.OD, model.K, initialize = preco_cor)\n",
    "model.d = Param(model.OD, model.K, model.T, initialize = dem_cor)\n",
    "\n",
    "# variáveis de decisão\n",
    "model.X = Var(model.OD, model.K, model.T, within = NonNegativeIntegers)\n",
    "model.Y = Var(model.OD, model.K, model.T, within = NonNegativeIntegers)\n",
    "\n",
    "# função objetivo\n",
    "def fo1(model):\n",
    "    return sum( model.P[i,j,k]*((model.X[i,j,k,t])) for i,j in model.OD for k in model.K for t in model.T)\n",
    "model.OBJ1 = Objective(rule = fo1, sense = maximize)\n",
    "\n",
    "# restrições\n",
    "def rest1(model):\n",
    "    return sum(model.X[i,j,k,t]  for i,j in model.OD for k in model.K for t in model.T if i==1) <= model.Q\n",
    "model.ConstrainRest1 = Constraint(rule = rest1)\n",
    "\n",
    "def rest2(model, il, jl):\n",
    "    if (il, jl) != (1,2):\n",
    "        return sum(model.X[i,j,k,t]  for i,j in model.OD for k in model.K for t in model.T if j==jl) <= model.Q\n",
    "    else:\n",
    "        return Constraint.Skip\n",
    "model.ConstrainRest2 = Constraint(model.L, rule = rest2)\n",
    "\n",
    "def authorization(model, i, j, k, t):\n",
    "    return model.Y[i,j,k,t] >= model.X[i,j,k,t]\n",
    "model.ConstrainAuthorization = Constraint(model.OD, model.K, model.T, rule = authorization)\n",
    "\n",
    "def classe(model, i, j, k, t):\n",
    "    if k < model.k:\n",
    "        return model.Y[i,j,k,t] <= model.Y[i,j,k+1,t]\n",
    "    else:\n",
    "        return Constraint.Skip\n",
    "model.ConstrainClasse = Constraint(model.OD, model.K, model.T, rule = classe)\n",
    "\n",
    "def assignment(model, i, j, k, t):\n",
    "    return model.X[i,j,k,t] <= model.d[i,j,k,t]\n",
    "model.ConstrainAssignment = Constraint(model.OD, model.K, model.T,rule = assignment)\n",
    "\n",
    "instance = model.create_instance()\n",
    "# instance.pprint()\n",
    "\n",
    "opt = SolverFactory('cplex')\n",
    "results = opt.solve(instance, tee=True)\n",
    "print(results)"
   ]
  },
  {
   "cell_type": "code",
   "execution_count": null,
   "metadata": {},
   "outputs": [],
   "source": [
    "print('Valor da função objetivo: ', '\\033[1m' + '\\033[32m' + str(value(instance.OBJ1)) + '\\033[0m')\n",
    "\n",
    "print('')\n",
    "\n",
    "# print('Valores das variáveis de decisão: ')\n",
    "lista = []\n",
    "for i in range(1,n+1):\n",
    "    for j in range(1,n+1):\n",
    "        for k in range(1,kk+1):\n",
    "            for t in range(1,tt+1):\n",
    "                if i<j:\n",
    "                    # print(i,j,k, ' - ',value(instance.Y[i,j,k]), ' - ', value(instance.X[i,j,k]) )\n",
    "                    lista.append([str(i) + '-' + str(j), k, t, value(instance.P[i,j,k]), value(instance.d[i,j,k,t]) , value(instance.X[i,j,k,t]), value(instance.Y[i,j,k,t]) ])\n",
    "\n",
    "a = pd.DataFrame(lista, columns=['o-d','classe','Periodo','preco','demanda','Assignments','Authorizations'])\n",
    "print(a)"
   ]
  },
  {
   "cell_type": "code",
   "execution_count": 11,
   "metadata": {},
   "outputs": [],
   "source": [
    "a = pd.DataFrame(lista, columns=['o-d','classe','Periodo','preco','demanda','Assignments','Authorizations'])\n",
    "a.to_excel('wwww4.xlsx', index=False)"
   ]
  }
 ],
 "metadata": {
  "kernelspec": {
   "display_name": "Python 3",
   "language": "python",
   "name": "python3"
  },
  "language_info": {
   "codemirror_mode": {
    "name": "ipython",
    "version": 3
   },
   "file_extension": ".py",
   "mimetype": "text/x-python",
   "name": "python",
   "nbconvert_exporter": "python",
   "pygments_lexer": "ipython3",
   "version": "3.9.12"
  }
 },
 "nbformat": 4,
 "nbformat_minor": 2
}
