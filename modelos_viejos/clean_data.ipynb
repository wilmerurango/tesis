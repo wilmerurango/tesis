{
 "cells": [
  {
   "cell_type": "code",
   "execution_count": 1,
   "metadata": {},
   "outputs": [],
   "source": [
    "import pandas as pd\n",
    "import numpy as np\n",
    "from itertools import product"
   ]
  },
  {
   "cell_type": "code",
   "execution_count": 20,
   "metadata": {},
   "outputs": [],
   "source": [
    "data = pd.read_csv('C:/Jupyter/TESIS/instancias/real/testInstance_Amtrak.csv', delimiter=';')\n",
    "data.drop(columns=['Unnamed: 0'], inplace=True)"
   ]
  },
  {
   "cell_type": "code",
   "execution_count": 21,
   "metadata": {},
   "outputs": [],
   "source": [
    "start_estation = 'NYP'\n",
    "\n",
    "origin = data['Origin'].unique().tolist()\n",
    "destin = data['Destination'].unique().tolist()\n",
    "periodo = sorted(data['DBD'].unique().tolist(), reverse=True)\n",
    "\n",
    "stations = destin + [i for i in origin if i not in destin]\n",
    "\n",
    "anonymo_stat = {i: data[data['Market'] == start_estation + '-' + i]['NbLegs'].unique()[0] + 1 if i != start_estation else 1 for i in stations }\n",
    "data.replace(anonymo_stat, inplace=True)\n",
    "origin_cor = sorted(data['Origin'].unique().tolist())\n",
    "destin_cor = sorted(data['Destination'].unique().tolist())"
   ]
  },
  {
   "cell_type": "code",
   "execution_count": 22,
   "metadata": {},
   "outputs": [],
   "source": [
    "data['Market'] = data['Origin'].astype('str') +'-'+ data['Destination'].astype('str')\n",
    "oridest = data['Market'].unique().tolist()\n",
    "oridest = sorted([(int(i.split('-')[0]), int(i.split('-')[1])) for i in oridest])\n",
    "\n",
    "jerar_comer_class = {'Y': '1-1','YA': '1-2','YB': '1-3','YC': '1-4','YD': '1-5','YE': '1-6','YF': '1-7','YG': '1-8','JY': '2-1','JA': '2-2','JB': '2-3','JC': '2-4','JD': '2-5','JE': '2-6','JF': '2-7','JG': '2-8'}\n",
    "data['CommercialClass'].replace(jerar_comer_class, inplace=True)\n",
    "\n",
    "data[['Vagon','Clase']] = data['CommercialClass'].str.split('-', expand=True).astype('int')\n",
    "vagones = data['Vagon'].unique().tolist()\n",
    "clases = {v: sorted(data[data['Vagon']==v]['Clase'].unique().tolist()) for v in vagones}"
   ]
  },
  {
   "cell_type": "code",
   "execution_count": 23,
   "metadata": {},
   "outputs": [
    {
     "data": {
      "text/plain": [
       "(65, 5)"
      ]
     },
     "execution_count": 23,
     "metadata": {},
     "output_type": "execute_result"
    }
   ],
   "source": [
    "demanda = pd.pivot_table(data, values=['Bookings'], index=['Origin','Destination','Vagon','Clase', 'DBD'], aggfunc={'Bookings':'sum'})\n",
    "demanda.reset_index(inplace=True)\n",
    "\n",
    "preco = pd.pivot_table(data, values=['Revenue'], index=['Origin','Destination','Vagon','Clase'], aggfunc={'Revenue':'max'})\n",
    "preco.reset_index(inplace=True)"
   ]
  },
  {
   "cell_type": "code",
   "execution_count": 24,
   "metadata": {},
   "outputs": [],
   "source": [
    "def fill_data(oridest, vagones, clases, records_to_correct, periodo=0): #preencha os dados\n",
    "     \n",
    "    combin_dem = []\n",
    "    for v in vagones:\n",
    "        combin_dem += list(product([v], clases[v]))\n",
    "\n",
    "    try:\n",
    "        columnas = ['trecho', 'vagon_clase', 'DBD']\n",
    "        df = pd.DataFrame(list(product(oridest, combin_dem, periodo)), columns=columnas)\n",
    "    except:\n",
    "        columnas = ['trecho', 'vagon_clase']\n",
    "        df = pd.DataFrame(list(product(oridest, combin_dem)), columns=columnas)\n",
    "\n",
    "    df[['Origin', 'Destination']] = pd.DataFrame(df['trecho'].tolist(), index=df.index)\n",
    "    df[['Vagon', 'Clase']] = pd.DataFrame(df['vagon_clase'].tolist(), index=df.index)\n",
    "    df = df.drop(columns=['trecho', 'vagon_clase'])\n",
    "\n",
    "    try:\n",
    "        df = df[['Origin', 'Destination', 'Vagon', 'Clase', 'DBD']]\n",
    "        df['Bookings'] = 0\n",
    "        df['clave_completa'] = df['Origin'].astype(str) + '_' + df['Destination'].astype(str) + '_' + df['Vagon'].astype(str) + '_' + df['Clase'].astype(str) + '_' + df['DBD'].astype(str)\n",
    "        records_to_correct['clave_completa'] = records_to_correct['Origin'].astype(str) + '_' + records_to_correct['Destination'].astype(str) + '_' + records_to_correct['Vagon'].astype(str) + '_' + records_to_correct['Clase'].astype(str) + '_' + records_to_correct['DBD'].astype(str)\n",
    "    except:\n",
    "        df['Revenue'] = 0\n",
    "        df['clave_completa'] = df['Origin'].astype(str) + '_' + df['Destination'].astype(str) + '_' + df['Vagon'].astype(str) + '_' + df['Clase'].astype(str)\n",
    "        records_to_correct['clave_completa'] = records_to_correct['Origin'].astype(str) + '_' + records_to_correct['Destination'].astype(str) + '_' + records_to_correct['Vagon'].astype(str) + '_' + records_to_correct['Clase'].astype(str)\n",
    "\n",
    "    new_records = df[~df['clave_completa'].isin(records_to_correct['clave_completa'])]\n",
    "    records_to_correct = pd.concat([records_to_correct, new_records], ignore_index=True)\n",
    "\n",
    "    records_to_correct.drop('clave_completa', axis=1, inplace=True)\n",
    "        \n",
    "    return records_to_correct\n",
    "\n",
    "\n",
    "preco = fill_data(oridest,vagones,clases, preco)\n",
    "demanda = fill_data(oridest,vagones,clases, demanda, periodo)"
   ]
  },
  {
   "cell_type": "code",
   "execution_count": 26,
   "metadata": {},
   "outputs": [],
   "source": [
    "preco = preco.sort_values(by=['Origin', 'Destination', 'Vagon', 'Revenue'], ascending=[True, True, True, False])\n",
    "\n",
    "dem_cor = demanda.set_index(['Origin', 'Destination', 'Vagon', 'Clase', 'DBD'])['Bookings'].to_dict()\n",
    "preco_cor = preco.set_index(['Origin', 'Destination', 'Vagon', 'Clase'])['Revenue'].to_dict()"
   ]
  },
  {
   "cell_type": "code",
   "execution_count": 27,
   "metadata": {},
   "outputs": [],
   "source": [
    "data.to_excel('data.xlsx', index=False)"
   ]
  },
  {
   "cell_type": "code",
   "execution_count": 28,
   "metadata": {},
   "outputs": [],
   "source": [
    "# def mode_clase(x):\n",
    "#     b = x[0]\n",
    "#     return b\n",
    "\n",
    "# def sub_clase(x):\n",
    "#     if len(x)>=2:\n",
    "#         c = x[1]\n",
    "#     else:\n",
    "#         c = ''\n",
    "#     return c\n",
    "\n",
    "# data['Vagon'] = data['CommercialClass'].apply(mode_clase)\n",
    "# vagones = data['Vagon'].unique().tolist()\n",
    "# data['Vagon'].replace({j:i+1 for i,j in enumerate(vagones)}, inplace= True)\n",
    "\n",
    "# data['sub_clas'] = data['CommercialClass'].apply(sub_clase)\n",
    "# sub_clase = sorted(data['sub_clas'].unique().tolist())\n",
    "# data['sub_clas'].replace({j:i+1 for i,j in enumerate(sub_clase)}, inplace= True)\n",
    "\n",
    "# vagones_1 = data['Vagon'].unique().tolist()\n",
    "# clases = data['sub_clas'].unique().tolist()\n",
    "\n",
    "\n",
    "# for i,j in oridest:\n",
    "#     for v in vagones:\n",
    "#         for k in clases[v]:\n",
    "#                 for t in periodo:\n",
    "#                     if demanda.loc[(demanda.Origin == i) & (demanda.Destination == j) & (demanda.Vagon == v) & (demanda.Clase == k) & (demanda.DBD == t)]['Bookings'].count() == 0:\n",
    "#                         a = {'Origin':i,'Destination':j,'Vagon':v,'Clase':k, 'DBD':t,'Bookings':0}\n",
    "#                         demanda.loc[len(demanda)] = a\n",
    "\n",
    "\n",
    "# for i,j in oridest:\n",
    "#     for v in vagones:\n",
    "#         for k in clases[v]:\n",
    "#                 if preco.loc[(preco.Origin == i) & (preco.Destination == j) & (preco.Vagon == v) & (preco.Clase == k)]['Revenue'].count() == 0:\n",
    "#                     a = {'Origin':i,'Destination':j,'Vagon':v,'Clase':k,'Revenue':0}\n",
    "#                     preco.loc[len(preco)] = a\n"
   ]
  }
 ],
 "metadata": {
  "kernelspec": {
   "display_name": "Python 3",
   "language": "python",
   "name": "python3"
  },
  "language_info": {
   "codemirror_mode": {
    "name": "ipython",
    "version": 3
   },
   "file_extension": ".py",
   "mimetype": "text/x-python",
   "name": "python",
   "nbconvert_exporter": "python",
   "pygments_lexer": "ipython3",
   "version": "3.9.12"
  }
 },
 "nbformat": 4,
 "nbformat_minor": 2
}
